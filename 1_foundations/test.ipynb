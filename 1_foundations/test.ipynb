{
 "cells": [
  {
   "cell_type": "markdown",
   "metadata": {},
   "source": [
    "# Test AI Agents\n",
    "\n",
    "## Init environment\n",
    "\n",
    "### Imports\n",
    "Call this to init.\n",
    "\n"
   ]
  },
  {
   "cell_type": "code",
   "execution_count": 3,
   "metadata": {},
   "outputs": [
    {
     "data": {
      "text/plain": [
       "True"
      ]
     },
     "execution_count": 3,
     "metadata": {},
     "output_type": "execute_result"
    }
   ],
   "source": [
    "# Imports\n",
    "from dotenv import load_dotenv\n",
    "from openai import OpenAI\n",
    "from IPython.display import Markdown, display\n",
    "\n",
    "load_dotenv(override=True)\n",
    "\n"
   ]
  },
  {
   "cell_type": "code",
   "execution_count": 14,
   "metadata": {},
   "outputs": [],
   "source": [
    "system_prompt = \"\"\"\n",
    "You assist me with HTML creation. You can use any HTML tags, CSS, JavaScript, etc. you want. Do not generate any explanation to the code you generate. Comment the code you generate.\n",
    "\"\"\""
   ]
  },
  {
   "cell_type": "code",
   "execution_count": 15,
   "metadata": {},
   "outputs": [],
   "source": [
    "user_prompt = \"\"\"\n",
    "Generate a HTML file witch contains a table with two rows.\n",
    "The first row contains the month of 2024. The second row contains the number of days in each month.\n",
    "The second row contains random generated numbers from 1 to 31.\n",
    "\n",
    "Below the table generate a bar chart where the x-axis is the month and the y-axis is the number in the second row.\n",
    "\n",
    "The HTML file should have a modern design. Use a modern HTML chart library.\n",
    "\n",
    "The HTML file should be saved in the current directory with the name \"index.html\".\n",
    "\"\"\""
   ]
  },
  {
   "cell_type": "code",
   "execution_count": 16,
   "metadata": {},
   "outputs": [],
   "source": [
    "test_messages = [\n",
    "    {\"role\": \"system\", \"content\": system_prompt},\n",
    "    {\"role\": \"user\", \"content\": user_prompt}\n",
    "]\n"
   ]
  },
  {
   "cell_type": "code",
   "execution_count": null,
   "metadata": {},
   "outputs": [
    {
     "data": {
      "text/markdown": [
       "```html\n",
       "<!DOCTYPE html>\n",
       "<html lang=\"en\">\n",
       "<head>\n",
       "    <meta charset=\"UTF-8\">\n",
       "    <meta name=\"viewport\" content=\"width=device-width, initial-scale=1.0\">\n",
       "    <title>2024 Month Days</title>\n",
       "    <!-- Linking to Google Fonts for modern typography -->\n",
       "    <link href=\"https://fonts.googleapis.com/css2?family=Roboto:wght@400;700&display=swap\" rel=\"stylesheet\">\n",
       "    <!-- Linking Chart.js for charting -->\n",
       "    <script src=\"https://cdn.jsdelivr.net/npm/chart.js\"></script>\n",
       "    <style>\n",
       "        body {\n",
       "            font-family: 'Roboto', sans-serif;\n",
       "            background-color: #f4f4f4;\n",
       "            margin: 0;\n",
       "            padding: 20px;\n",
       "        }\n",
       "        table {\n",
       "            width: 100%;\n",
       "            border-collapse: collapse;\n",
       "            margin-bottom: 20px;\n",
       "        }\n",
       "        th, td {\n",
       "            border: 1px solid #ddd;\n",
       "            padding: 12px;\n",
       "            text-align: center;\n",
       "        }\n",
       "        th {\n",
       "            background-color: #4CAF50;\n",
       "            color: white;\n",
       "        }\n",
       "        canvas {\n",
       "            max-width: 600px;\n",
       "            margin: 0 auto;\n",
       "        }\n",
       "    </style>\n",
       "</head>\n",
       "<body>\n",
       "\n",
       "    <h1>Days in Each Month of 2024</h1>\n",
       "    <table>\n",
       "        <tr>\n",
       "            <th>January</th>\n",
       "            <th>February</th>\n",
       "            <th>March</th>\n",
       "            <th>April</th>\n",
       "            <th>May</th>\n",
       "            <th>June</th>\n",
       "            <th>July</th>\n",
       "            <th>August</th>\n",
       "            <th>September</th>\n",
       "            <th>October</th>\n",
       "            <th>November</th>\n",
       "            <th>December</th>\n",
       "        </tr>\n",
       "        <tr id=\"days-row\">\n",
       "            <!-- Placeholder for days, will be filled using JavaScript -->\n",
       "        </tr>\n",
       "    </table>\n",
       "\n",
       "    <canvas id=\"myChart\"></canvas>\n",
       "\n",
       "    <script>\n",
       "        // Generating random days for each month\n",
       "        const days = Array.from({ length: 12 }, () => Math.floor(Math.random() * 31) + 1);\n",
       "        const daysRow = document.getElementById('days-row');\n",
       "\n",
       "        // Inserting days into the table\n",
       "        days.forEach(day => {\n",
       "            const td = document.createElement('td');\n",
       "            td.textContent = day;\n",
       "            daysRow.appendChild(td);\n",
       "        });\n",
       "\n",
       "        // Chart.js Configuration\n",
       "        const ctx = document.getElementById('myChart').getContext('2d');\n",
       "        const myChart = new Chart(ctx, {\n",
       "            type: 'bar',\n",
       "            data: {\n",
       "                labels: [\n",
       "                    'January', 'February', 'March', 'April', \n",
       "                    'May', 'June', 'July', 'August', \n",
       "                    'September', 'October', 'November', 'December'\n",
       "                ],\n",
       "                datasets: [{\n",
       "                    label: 'Number of Days',\n",
       "                    data: days,\n",
       "                    backgroundColor: 'rgba(75, 192, 192, 0.6)',\n",
       "                    borderColor: 'rgba(75, 192, 192, 1)',\n",
       "                    borderWidth: 1\n",
       "                }]\n",
       "            },\n",
       "            options: {\n",
       "                scales: {\n",
       "                    y: {\n",
       "                        beginAtZero: true\n",
       "                    }\n",
       "                }\n",
       "            }\n",
       "        });\n",
       "    </script>\n",
       "</body>\n",
       "</html>\n",
       "```"
      ],
      "text/plain": [
       "<IPython.core.display.Markdown object>"
      ]
     },
     "metadata": {},
     "output_type": "display_data"
    }
   ],
   "source": [
    "client = OpenAI()\n",
    "\n",
    "response = client.chat.completions.create(\n",
    "    model=\"gpt-4o-mini\",\n",
    "    messages=test_messages\n",
    ")\n",
    "\n",
    "# print(response.choices[0].message.content)\n",
    "display(Markdown(response.choices[0].message.content))\n",
    "\n"
   ]
  },
  {
   "cell_type": "code",
   "execution_count": 18,
   "metadata": {},
   "outputs": [],
   "source": [
    "with open(\"index.html\", \"w\") as f:\n",
    "    f.write(response.choices[0].message.content)"
   ]
  }
 ],
 "metadata": {
  "kernelspec": {
   "display_name": ".venv",
   "language": "python",
   "name": "python3"
  },
  "language_info": {
   "codemirror_mode": {
    "name": "ipython",
    "version": 3
   },
   "file_extension": ".py",
   "mimetype": "text/x-python",
   "name": "python",
   "nbconvert_exporter": "python",
   "pygments_lexer": "ipython3",
   "version": "3.12.9"
  }
 },
 "nbformat": 4,
 "nbformat_minor": 4
}
